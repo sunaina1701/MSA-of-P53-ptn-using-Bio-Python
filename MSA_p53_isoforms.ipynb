{
  "nbformat": 4,
  "nbformat_minor": 0,
  "metadata": {
    "colab": {
      "provenance": [],
      "authorship_tag": "ABX9TyO06BVuTN+qUrHnna0clpG8",
      "include_colab_link": true
    },
    "kernelspec": {
      "name": "python3",
      "display_name": "Python 3"
    },
    "language_info": {
      "name": "python"
    }
  },
  "cells": [
    {
      "cell_type": "markdown",
      "metadata": {
        "id": "view-in-github",
        "colab_type": "text"
      },
      "source": [
        "<a href=\"https://colab.research.google.com/github/sunaina1701/MSA-of-P53-ptn-using-Bio-Python/blob/main/MSA_p53_isoforms.ipynb\" target=\"_parent\"><img src=\"https://colab.research.google.com/assets/colab-badge.svg\" alt=\"Open In Colab\"/></a>"
      ]
    },
    {
      "cell_type": "code",
      "execution_count": null,
      "metadata": {
        "colab": {
          "base_uri": "https://localhost:8080/"
        },
        "id": "sTaw5TVETbRG",
        "outputId": "f13b6106-a4ad-4f02-d9ab-4aa1d4a1fa60"
      },
      "outputs": [
        {
          "output_type": "stream",
          "name": "stdout",
          "text": [
            "Collecting biopython\n",
            "  Downloading biopython-1.85-cp311-cp311-manylinux_2_17_x86_64.manylinux2014_x86_64.whl.metadata (13 kB)\n",
            "Requirement already satisfied: numpy in /usr/local/lib/python3.11/dist-packages (from biopython) (2.0.2)\n",
            "Downloading biopython-1.85-cp311-cp311-manylinux_2_17_x86_64.manylinux2014_x86_64.whl (3.3 MB)\n",
            "\u001b[2K   \u001b[90m━━━━━━━━━━━━━━━━━━━━━━━━━━━━━━━━━━━━━━━━\u001b[0m \u001b[32m3.3/3.3 MB\u001b[0m \u001b[31m31.5 MB/s\u001b[0m eta \u001b[36m0:00:00\u001b[0m\n",
            "\u001b[?25hInstalling collected packages: biopython\n",
            "Successfully installed biopython-1.85\n",
            "Reading package lists... Done\n",
            "Building dependency tree... Done\n",
            "Reading state information... Done\n",
            "The following additional packages will be installed:\n",
            "  libargtable2-0\n",
            "The following NEW packages will be installed:\n",
            "  clustalo libargtable2-0\n",
            "0 upgraded, 2 newly installed, 0 to remove and 35 not upgraded.\n",
            "Need to get 273 kB of archives.\n",
            "After this operation, 694 kB of additional disk space will be used.\n",
            "Get:1 http://archive.ubuntu.com/ubuntu jammy/universe amd64 libargtable2-0 amd64 13-1.1 [14.1 kB]\n",
            "Get:2 http://archive.ubuntu.com/ubuntu jammy/universe amd64 clustalo amd64 1.2.4-7 [259 kB]\n",
            "Fetched 273 kB in 1s (420 kB/s)\n",
            "Selecting previously unselected package libargtable2-0.\n",
            "(Reading database ... 126319 files and directories currently installed.)\n",
            "Preparing to unpack .../libargtable2-0_13-1.1_amd64.deb ...\n",
            "Unpacking libargtable2-0 (13-1.1) ...\n",
            "Selecting previously unselected package clustalo.\n",
            "Preparing to unpack .../clustalo_1.2.4-7_amd64.deb ...\n",
            "Unpacking clustalo (1.2.4-7) ...\n",
            "Setting up libargtable2-0 (13-1.1) ...\n",
            "Setting up clustalo (1.2.4-7) ...\n",
            "Processing triggers for libc-bin (2.35-0ubuntu3.8) ...\n",
            "/sbin/ldconfig.real: /usr/local/lib/libtbbmalloc.so.2 is not a symbolic link\n",
            "\n",
            "/sbin/ldconfig.real: /usr/local/lib/libur_adapter_opencl.so.0 is not a symbolic link\n",
            "\n",
            "/sbin/ldconfig.real: /usr/local/lib/libtbbbind_2_5.so.3 is not a symbolic link\n",
            "\n",
            "/sbin/ldconfig.real: /usr/local/lib/libur_adapter_level_zero.so.0 is not a symbolic link\n",
            "\n",
            "/sbin/ldconfig.real: /usr/local/lib/libtcm_debug.so.1 is not a symbolic link\n",
            "\n",
            "/sbin/ldconfig.real: /usr/local/lib/libur_loader.so.0 is not a symbolic link\n",
            "\n",
            "/sbin/ldconfig.real: /usr/local/lib/libtbbbind_2_0.so.3 is not a symbolic link\n",
            "\n",
            "/sbin/ldconfig.real: /usr/local/lib/libtbb.so.12 is not a symbolic link\n",
            "\n",
            "/sbin/ldconfig.real: /usr/local/lib/libtbbmalloc_proxy.so.2 is not a symbolic link\n",
            "\n",
            "/sbin/ldconfig.real: /usr/local/lib/libumf.so.0 is not a symbolic link\n",
            "\n",
            "/sbin/ldconfig.real: /usr/local/lib/libtbbbind.so.3 is not a symbolic link\n",
            "\n",
            "/sbin/ldconfig.real: /usr/local/lib/libtcm.so.1 is not a symbolic link\n",
            "\n",
            "/sbin/ldconfig.real: /usr/local/lib/libhwloc.so.15 is not a symbolic link\n",
            "\n",
            "Processing triggers for man-db (2.10.2-1) ...\n"
          ]
        }
      ],
      "source": [
        "#install required tools\n",
        "!pip install biopython\n",
        "!apt-get install -y clustalo"
      ]
    },
    {
      "cell_type": "code",
      "source": [
        "from Bio import SeqIO, AlignIO\n",
        "from Bio.Seq import Seq\n",
        "from Bio.SeqRecord import SeqRecord\n",
        "from collections import Counter\n",
        "import subprocess"
      ],
      "metadata": {
        "id": "euWao4OVVQCs"
      },
      "execution_count": null,
      "outputs": []
    },
    {
      "cell_type": "code",
      "source": [
        "# Define sequences and write to FASTA file\n",
        "sequences = [\n",
        "    SeqRecord(Seq((\"MEEPQSDPSVEPPLSQETFSDLWKLLPENNVLSPLPSQAMDDLMLSPDDIEQWFTEDPGPDEAPRMPEAA\"\n",
        "\"PPVAPAPAAPTPAAPAPAPSWPLSSSVPSQKTYQGSYGFRLGFLHSGTAKSVTCTYSPALNKMFCQLAKT\"\n",
        "\"CPVQLWVDSTPPPGTRVRAMAIYKQSQHMTEVVRRCPHHERCSDSDGLAPPQHLIRVEGNLRVEYLDDRN\"\n",
        "\"TFRHSVVVPYEPPEVGSDCTTIHYNYMCNSSCMGGMNRRPILTIITLEDSSGNLLGRNSFEVRVCACPGR\"\n",
        "\"DRRTEEENLRKKGEPHHELPPGSTKRALPNNTSSSPQPKKKPLDGEYFTLQDQTSFQKENC\" )), id=\"seq1\", description= \"\" ),\n",
        "    SeqRecord(Seq((\"MEEPQSDPSVEPPLSQETFSDLWKLLPENNVLSPLPSQAMDDLMLSPDDIEQWFTEDPGPDEAPRMPEAA\"\n",
        "\"PPVAPAPAAPTPAAPAPAPSWPLSSSVPSQKTYQGSYGFRLGFLHSGTAKSVTCTYSPALNKMFCQLAKT\"\n",
        "\"CPVQLWVDSTPPPGTRVRAMAIYKQSQHMTEVVRRCPHHERCSDSDGLAPPQHLIRVEGNLRVEYLDDRN\"\n",
        "\"TFRHSVVVPYEPPEVGSDCTTIHYNYMCNSSCMGGMNRRPILTIITLEDSSGNLLGRNSFEVRVCACPGR\"\n",
        "\"DRRTEEENLRKKGEPHHELPPGSTKRALPNNTSSSPQPKKKPLDGEYFTLQIRGRERFEMFRELNEALEL\"\n",
        "\"KDAQAGKEPGGSRAHSSHLKSKKGQSTSRHKKLMFKTEGPDSD\")), id=\"seq2\", description=\"\"),\n",
        "    SeqRecord(Seq((\"MEEPQSDPSVEPPLSQETFSDLWKLLPENNVLSPLPSQAMDDLMLSPDDIEQWFTEDPGPDEAPRMPEAA\"\n",
        "\"PPVAPAPAAPTPAAPAPAAPSWPLSSSVPSQKTYQGSYGFRLGFLHSGTAKSVTCTYSPALNKMFCQLAKT\"\n",
        "\"CPVQLWVDSTPPPGTRVRAMAIYKQSQHMTEVVRRCPHHERCSDSDGLAPPQHLIRVEGNLRVEYLDDRN\"\n",
        "\"TFRHSVVVPYEPPEVGSDCTTIHYNYMCNSSCMGGMNRRPILTIITLEDSSGNLLGRNSFEVRVCACPGR\"\n",
        "\"DRRTEEENLRKKGEPHHELPPGSTKRALPNNTSSSPQPKKKPLDGEYFTLQMLLDLRWCYFLINSS\")), id=\"seq3\", description=\"\")\n",
        "]\n",
        "fasta_file = \"input_sequence.fasta\"\n",
        "with open(fasta_file, \"w\") as f:\n",
        "  SeqIO.write(sequences, f, \"fasta\")"
      ],
      "metadata": {
        "id": "zAMmV_qFVeYD"
      },
      "execution_count": null,
      "outputs": []
    },
    {
      "cell_type": "code",
      "source": [
        "#Run Clustal Omega alignment\n",
        "aligned_file = \"aligned_output.fasta\"\n",
        "command = f\"clustalo -i {fasta_file} -o {aligned_file} --force --outfmt=fasta\"\n",
        "subprocess.run(command, shell=True, check=True)"
      ],
      "metadata": {
        "colab": {
          "base_uri": "https://localhost:8080/"
        },
        "id": "MEofZm78YnSD",
        "outputId": "689bb87d-dd23-4d55-eb45-4ff87b0ea9d2"
      },
      "execution_count": null,
      "outputs": [
        {
          "output_type": "execute_result",
          "data": {
            "text/plain": [
              "CompletedProcess(args='clustalo -i input_sequence.fasta -o aligned_output.fasta --force --outfmt=fasta', returncode=0)"
            ]
          },
          "metadata": {},
          "execution_count": 15
        }
      ]
    },
    {
      "cell_type": "code",
      "source": [
        "# read and display aligned sequences\n",
        "alignment = AlignIO.read(aligned_file, \"fasta\")\n",
        "print(\"Aligned Sequences:\")\n",
        "for record in alignment:\n",
        "  print(f\"{record.id}: {record.seq}\")"
      ],
      "metadata": {
        "colab": {
          "base_uri": "https://localhost:8080/"
        },
        "id": "4HfVMZnjYrtP",
        "outputId": "a0bcf067-93a0-49cd-f728-c177408f9728"
      },
      "execution_count": null,
      "outputs": [
        {
          "output_type": "stream",
          "name": "stdout",
          "text": [
            "Aligned Sequences:\n",
            "seq1: MEEPQSDPSVEPPLSQETFSDLWKLLPENNVLSPLPSQAMDDLMLSPDDIEQWFTEDPGPDEAPRMPEAAPPVAPAPAAPTPAAPAPAPSWPLSSSVPSQKTYQGSYGFRLGFLHSGTAKSVTCTYSPALNKMFCQLAKTCPVQLWVDSTPPPGTRVRAMAIYKQSQHMTEVVRRCPHHERCSDSDGLAPPQHLIRVEGNLRVEYLDDRNTFRHSVVVPYEPPEVGSDCTTIHYNYMCNSSCMGGMNRRPILTIITLEDSSGNLLGRNSFEVRVCACPGRDRRTEEENLRKKGEPHHELPPGSTKRALPNNTSSSPQPKKKPLDGEYFTLQDQTSFQKENC----------------------------------------------------\n",
            "seq2: MEEPQSDPSVEPPLSQETFSDLWKLLPENNVLSPLPSQAMDDLMLSPDDIEQWFTEDPGPDEAPRMPEAAPPVAPAPAAPTPAAPAPAPSWPLSSSVPSQKTYQGSYGFRLGFLHSGTAKSVTCTYSPALNKMFCQLAKTCPVQLWVDSTPPPGTRVRAMAIYKQSQHMTEVVRRCPHHERCSDSDGLAPPQHLIRVEGNLRVEYLDDRNTFRHSVVVPYEPPEVGSDCTTIHYNYMCNSSCMGGMNRRPILTIITLEDSSGNLLGRNSFEVRVCACPGRDRRTEEENLRKKGEPHHELPPGSTKRALPNNTSSSPQPKKKPLDGEYFTLQIRGRERFEMFRELNEALELKDAQAGKEPGGSRAHSSHLKSKKGQSTSRHKKLMFKTEGPDSD\n",
            "seq3: MEEPQSDPSVEPPLSQETFSDLWKLLPENNVLSPLPSQAMDDLMLSPDDIEQWFTEDPGPDEAPRMPEAAPPVAPAPAAPTPAAPapAPSWPLSSSVPSQKTYQGSYGFRLGFLHSGTAKSVTCTYSPALNKMFCQLAKTCPVQLWVDSTPPPGTRVRAMAIYKQSQHMTEVVRRCPHHERCSDSDGLAPPQHLIRVEGNLRVEYLDDRNTFRHSVVVPYEPPEVGSDCTTIHYNYMCNSSCMGGMNRRPILTIITLEDSSGNLLGRNSFEVRVCACPGRDRRTEEENLRKKGEPHHELPPGSTKRALPNNTSSSPQPKKKPLDGEYFTLQMLLDLRWCYFLINSS-----------------------------------------------\n"
          ]
        }
      ]
    },
    {
      "cell_type": "code",
      "source": [
        "# save aligned sequences in CLUSTAL format\n",
        "AlignIO.write(alignment, \"aligned_output.aln\", \"clustal\")"
      ],
      "metadata": {
        "colab": {
          "base_uri": "https://localhost:8080/"
        },
        "id": "hmIPGt3bYwho",
        "outputId": "696ef493-491f-4663-a437-476a6122dc56"
      },
      "execution_count": null,
      "outputs": [
        {
          "output_type": "execute_result",
          "data": {
            "text/plain": [
              "1"
            ]
          },
          "metadata": {},
          "execution_count": 16
        }
      ]
    },
    {
      "cell_type": "code",
      "source": [
        "# identify conserved positions\n",
        "print(\"Conserved Positions:\")\n",
        "for i in range(len(alignment[0])) :\n",
        "  column = [record.seq[i] for record in alignment]\n",
        "  counts = Counter(column)\n",
        "  if len(counts) == 1:\n",
        "    print(f\"Position {i+1}: {column[0]} (conserved)\")"
      ],
      "metadata": {
        "colab": {
          "base_uri": "https://localhost:8080/"
        },
        "id": "YJ6ZTRydY1t1",
        "outputId": "e725a107-65d0-41d2-9a85-60e77e72a254"
      },
      "execution_count": null,
      "outputs": [
        {
          "output_type": "stream",
          "name": "stdout",
          "text": [
            "Conserved Positions:\n",
            "Position 1: M (conserved)\n",
            "Position 2: E (conserved)\n",
            "Position 3: E (conserved)\n",
            "Position 4: P (conserved)\n",
            "Position 5: Q (conserved)\n",
            "Position 6: S (conserved)\n",
            "Position 7: D (conserved)\n",
            "Position 8: P (conserved)\n",
            "Position 9: S (conserved)\n",
            "Position 10: V (conserved)\n",
            "Position 11: E (conserved)\n",
            "Position 12: P (conserved)\n",
            "Position 13: P (conserved)\n",
            "Position 14: L (conserved)\n",
            "Position 15: S (conserved)\n",
            "Position 16: Q (conserved)\n",
            "Position 17: E (conserved)\n",
            "Position 18: T (conserved)\n",
            "Position 19: F (conserved)\n",
            "Position 20: S (conserved)\n",
            "Position 21: D (conserved)\n",
            "Position 22: L (conserved)\n",
            "Position 23: W (conserved)\n",
            "Position 24: K (conserved)\n",
            "Position 25: L (conserved)\n",
            "Position 26: L (conserved)\n",
            "Position 27: P (conserved)\n",
            "Position 28: E (conserved)\n",
            "Position 29: N (conserved)\n",
            "Position 30: N (conserved)\n",
            "Position 31: V (conserved)\n",
            "Position 32: L (conserved)\n",
            "Position 33: S (conserved)\n",
            "Position 34: P (conserved)\n",
            "Position 35: L (conserved)\n",
            "Position 36: P (conserved)\n",
            "Position 37: S (conserved)\n",
            "Position 38: Q (conserved)\n",
            "Position 39: A (conserved)\n",
            "Position 40: M (conserved)\n",
            "Position 41: D (conserved)\n",
            "Position 42: D (conserved)\n",
            "Position 43: L (conserved)\n",
            "Position 44: M (conserved)\n",
            "Position 45: L (conserved)\n",
            "Position 46: S (conserved)\n",
            "Position 47: P (conserved)\n",
            "Position 48: D (conserved)\n",
            "Position 49: D (conserved)\n",
            "Position 50: I (conserved)\n",
            "Position 51: E (conserved)\n",
            "Position 52: Q (conserved)\n",
            "Position 53: W (conserved)\n",
            "Position 54: F (conserved)\n",
            "Position 55: T (conserved)\n",
            "Position 56: E (conserved)\n",
            "Position 57: D (conserved)\n",
            "Position 58: P (conserved)\n",
            "Position 59: G (conserved)\n",
            "Position 60: P (conserved)\n",
            "Position 61: D (conserved)\n",
            "Position 62: E (conserved)\n",
            "Position 63: A (conserved)\n",
            "Position 64: P (conserved)\n",
            "Position 65: R (conserved)\n",
            "Position 66: M (conserved)\n",
            "Position 67: P (conserved)\n",
            "Position 68: E (conserved)\n",
            "Position 69: A (conserved)\n",
            "Position 70: A (conserved)\n",
            "Position 71: P (conserved)\n",
            "Position 72: P (conserved)\n",
            "Position 73: V (conserved)\n",
            "Position 74: A (conserved)\n",
            "Position 75: P (conserved)\n",
            "Position 76: A (conserved)\n",
            "Position 77: P (conserved)\n",
            "Position 78: A (conserved)\n",
            "Position 79: A (conserved)\n",
            "Position 80: P (conserved)\n",
            "Position 81: T (conserved)\n",
            "Position 82: P (conserved)\n",
            "Position 83: A (conserved)\n",
            "Position 84: A (conserved)\n",
            "Position 85: P (conserved)\n",
            "Position 88: A (conserved)\n",
            "Position 89: P (conserved)\n",
            "Position 90: S (conserved)\n",
            "Position 91: W (conserved)\n",
            "Position 92: P (conserved)\n",
            "Position 93: L (conserved)\n",
            "Position 94: S (conserved)\n",
            "Position 95: S (conserved)\n",
            "Position 96: S (conserved)\n",
            "Position 97: V (conserved)\n",
            "Position 98: P (conserved)\n",
            "Position 99: S (conserved)\n",
            "Position 100: Q (conserved)\n",
            "Position 101: K (conserved)\n",
            "Position 102: T (conserved)\n",
            "Position 103: Y (conserved)\n",
            "Position 104: Q (conserved)\n",
            "Position 105: G (conserved)\n",
            "Position 106: S (conserved)\n",
            "Position 107: Y (conserved)\n",
            "Position 108: G (conserved)\n",
            "Position 109: F (conserved)\n",
            "Position 110: R (conserved)\n",
            "Position 111: L (conserved)\n",
            "Position 112: G (conserved)\n",
            "Position 113: F (conserved)\n",
            "Position 114: L (conserved)\n",
            "Position 115: H (conserved)\n",
            "Position 116: S (conserved)\n",
            "Position 117: G (conserved)\n",
            "Position 118: T (conserved)\n",
            "Position 119: A (conserved)\n",
            "Position 120: K (conserved)\n",
            "Position 121: S (conserved)\n",
            "Position 122: V (conserved)\n",
            "Position 123: T (conserved)\n",
            "Position 124: C (conserved)\n",
            "Position 125: T (conserved)\n",
            "Position 126: Y (conserved)\n",
            "Position 127: S (conserved)\n",
            "Position 128: P (conserved)\n",
            "Position 129: A (conserved)\n",
            "Position 130: L (conserved)\n",
            "Position 131: N (conserved)\n",
            "Position 132: K (conserved)\n",
            "Position 133: M (conserved)\n",
            "Position 134: F (conserved)\n",
            "Position 135: C (conserved)\n",
            "Position 136: Q (conserved)\n",
            "Position 137: L (conserved)\n",
            "Position 138: A (conserved)\n",
            "Position 139: K (conserved)\n",
            "Position 140: T (conserved)\n",
            "Position 141: C (conserved)\n",
            "Position 142: P (conserved)\n",
            "Position 143: V (conserved)\n",
            "Position 144: Q (conserved)\n",
            "Position 145: L (conserved)\n",
            "Position 146: W (conserved)\n",
            "Position 147: V (conserved)\n",
            "Position 148: D (conserved)\n",
            "Position 149: S (conserved)\n",
            "Position 150: T (conserved)\n",
            "Position 151: P (conserved)\n",
            "Position 152: P (conserved)\n",
            "Position 153: P (conserved)\n",
            "Position 154: G (conserved)\n",
            "Position 155: T (conserved)\n",
            "Position 156: R (conserved)\n",
            "Position 157: V (conserved)\n",
            "Position 158: R (conserved)\n",
            "Position 159: A (conserved)\n",
            "Position 160: M (conserved)\n",
            "Position 161: A (conserved)\n",
            "Position 162: I (conserved)\n",
            "Position 163: Y (conserved)\n",
            "Position 164: K (conserved)\n",
            "Position 165: Q (conserved)\n",
            "Position 166: S (conserved)\n",
            "Position 167: Q (conserved)\n",
            "Position 168: H (conserved)\n",
            "Position 169: M (conserved)\n",
            "Position 170: T (conserved)\n",
            "Position 171: E (conserved)\n",
            "Position 172: V (conserved)\n",
            "Position 173: V (conserved)\n",
            "Position 174: R (conserved)\n",
            "Position 175: R (conserved)\n",
            "Position 176: C (conserved)\n",
            "Position 177: P (conserved)\n",
            "Position 178: H (conserved)\n",
            "Position 179: H (conserved)\n",
            "Position 180: E (conserved)\n",
            "Position 181: R (conserved)\n",
            "Position 182: C (conserved)\n",
            "Position 183: S (conserved)\n",
            "Position 184: D (conserved)\n",
            "Position 185: S (conserved)\n",
            "Position 186: D (conserved)\n",
            "Position 187: G (conserved)\n",
            "Position 188: L (conserved)\n",
            "Position 189: A (conserved)\n",
            "Position 190: P (conserved)\n",
            "Position 191: P (conserved)\n",
            "Position 192: Q (conserved)\n",
            "Position 193: H (conserved)\n",
            "Position 194: L (conserved)\n",
            "Position 195: I (conserved)\n",
            "Position 196: R (conserved)\n",
            "Position 197: V (conserved)\n",
            "Position 198: E (conserved)\n",
            "Position 199: G (conserved)\n",
            "Position 200: N (conserved)\n",
            "Position 201: L (conserved)\n",
            "Position 202: R (conserved)\n",
            "Position 203: V (conserved)\n",
            "Position 204: E (conserved)\n",
            "Position 205: Y (conserved)\n",
            "Position 206: L (conserved)\n",
            "Position 207: D (conserved)\n",
            "Position 208: D (conserved)\n",
            "Position 209: R (conserved)\n",
            "Position 210: N (conserved)\n",
            "Position 211: T (conserved)\n",
            "Position 212: F (conserved)\n",
            "Position 213: R (conserved)\n",
            "Position 214: H (conserved)\n",
            "Position 215: S (conserved)\n",
            "Position 216: V (conserved)\n",
            "Position 217: V (conserved)\n",
            "Position 218: V (conserved)\n",
            "Position 219: P (conserved)\n",
            "Position 220: Y (conserved)\n",
            "Position 221: E (conserved)\n",
            "Position 222: P (conserved)\n",
            "Position 223: P (conserved)\n",
            "Position 224: E (conserved)\n",
            "Position 225: V (conserved)\n",
            "Position 226: G (conserved)\n",
            "Position 227: S (conserved)\n",
            "Position 228: D (conserved)\n",
            "Position 229: C (conserved)\n",
            "Position 230: T (conserved)\n",
            "Position 231: T (conserved)\n",
            "Position 232: I (conserved)\n",
            "Position 233: H (conserved)\n",
            "Position 234: Y (conserved)\n",
            "Position 235: N (conserved)\n",
            "Position 236: Y (conserved)\n",
            "Position 237: M (conserved)\n",
            "Position 238: C (conserved)\n",
            "Position 239: N (conserved)\n",
            "Position 240: S (conserved)\n",
            "Position 241: S (conserved)\n",
            "Position 242: C (conserved)\n",
            "Position 243: M (conserved)\n",
            "Position 244: G (conserved)\n",
            "Position 245: G (conserved)\n",
            "Position 246: M (conserved)\n",
            "Position 247: N (conserved)\n",
            "Position 248: R (conserved)\n",
            "Position 249: R (conserved)\n",
            "Position 250: P (conserved)\n",
            "Position 251: I (conserved)\n",
            "Position 252: L (conserved)\n",
            "Position 253: T (conserved)\n",
            "Position 254: I (conserved)\n",
            "Position 255: I (conserved)\n",
            "Position 256: T (conserved)\n",
            "Position 257: L (conserved)\n",
            "Position 258: E (conserved)\n",
            "Position 259: D (conserved)\n",
            "Position 260: S (conserved)\n",
            "Position 261: S (conserved)\n",
            "Position 262: G (conserved)\n",
            "Position 263: N (conserved)\n",
            "Position 264: L (conserved)\n",
            "Position 265: L (conserved)\n",
            "Position 266: G (conserved)\n",
            "Position 267: R (conserved)\n",
            "Position 268: N (conserved)\n",
            "Position 269: S (conserved)\n",
            "Position 270: F (conserved)\n",
            "Position 271: E (conserved)\n",
            "Position 272: V (conserved)\n",
            "Position 273: R (conserved)\n",
            "Position 274: V (conserved)\n",
            "Position 275: C (conserved)\n",
            "Position 276: A (conserved)\n",
            "Position 277: C (conserved)\n",
            "Position 278: P (conserved)\n",
            "Position 279: G (conserved)\n",
            "Position 280: R (conserved)\n",
            "Position 281: D (conserved)\n",
            "Position 282: R (conserved)\n",
            "Position 283: R (conserved)\n",
            "Position 284: T (conserved)\n",
            "Position 285: E (conserved)\n",
            "Position 286: E (conserved)\n",
            "Position 287: E (conserved)\n",
            "Position 288: N (conserved)\n",
            "Position 289: L (conserved)\n",
            "Position 290: R (conserved)\n",
            "Position 291: K (conserved)\n",
            "Position 292: K (conserved)\n",
            "Position 293: G (conserved)\n",
            "Position 294: E (conserved)\n",
            "Position 295: P (conserved)\n",
            "Position 296: H (conserved)\n",
            "Position 297: H (conserved)\n",
            "Position 298: E (conserved)\n",
            "Position 299: L (conserved)\n",
            "Position 300: P (conserved)\n",
            "Position 301: P (conserved)\n",
            "Position 302: G (conserved)\n",
            "Position 303: S (conserved)\n",
            "Position 304: T (conserved)\n",
            "Position 305: K (conserved)\n",
            "Position 306: R (conserved)\n",
            "Position 307: A (conserved)\n",
            "Position 308: L (conserved)\n",
            "Position 309: P (conserved)\n",
            "Position 310: N (conserved)\n",
            "Position 311: N (conserved)\n",
            "Position 312: T (conserved)\n",
            "Position 313: S (conserved)\n",
            "Position 314: S (conserved)\n",
            "Position 315: S (conserved)\n",
            "Position 316: P (conserved)\n",
            "Position 317: Q (conserved)\n",
            "Position 318: P (conserved)\n",
            "Position 319: K (conserved)\n",
            "Position 320: K (conserved)\n",
            "Position 321: K (conserved)\n",
            "Position 322: P (conserved)\n",
            "Position 323: L (conserved)\n",
            "Position 324: D (conserved)\n",
            "Position 325: G (conserved)\n",
            "Position 326: E (conserved)\n",
            "Position 327: Y (conserved)\n",
            "Position 328: F (conserved)\n",
            "Position 329: T (conserved)\n",
            "Position 330: L (conserved)\n",
            "Position 331: Q (conserved)\n"
          ]
        }
      ]
    },
    {
      "cell_type": "code",
      "source": [
        "#heatmap of conservation across alignment\n",
        "import matplotlib.pyplot as plt\n",
        "import seaborn as sns\n",
        "import numpy as np\n",
        "\n",
        "#build a matrix of character frequencies per column\n",
        "alignment_array = np.array([list(rec.seq) for rec in alignment])\n",
        "num_seqs, seq_len = alignment_array.shape\n",
        "\n",
        "#count most common characters per column\n",
        "conservation_scores =[]\n",
        "for i in range(seq_len):\n",
        "  column = alignment_array[:,i]\n",
        "  counts = Counter(column)\n",
        "  most_common = counts.most_common(1)[0][1]\n",
        "  score = most_common / num_seqs\n",
        "  conservation_scores.append(score)\n",
        "\n",
        "#plot conservation\n",
        "plt.figure(figsize=(12,2))\n",
        "sns.heatmap([conservation_scores], cmap=\"Blues\", cbar=True , xticklabels=False , yticklabels=[\"Conservation\"] )\n",
        "plt.title(\"Conservation score across alignment positions\")\n",
        "plt.xlabel(\"Position\")\n",
        "plt.show()"
      ],
      "metadata": {
        "colab": {
          "base_uri": "https://localhost:8080/",
          "height": 232
        },
        "id": "YqZo4vjXY6pV",
        "outputId": "92885c16-6d03-4838-810d-bbe9eaa235f5"
      },
      "execution_count": null,
      "outputs": [
        {
          "output_type": "display_data",
          "data": {
            "text/plain": [
              "<Figure size 1200x200 with 2 Axes>"
            ],
            "image/png": "[encoded data removed]"
          },
          "metadata": {}
        }
      ]
    },
    {
      "cell_type": "code",
      "source": [
        "# generate and visualize phylogenetic tree\n",
        "!pip install biopython\n",
        "from Bio import Phylo\n",
        "import subprocess\n",
        "\n",
        "#use the alignment saved in CLUSTAL format\n",
        "aln_file = \"aligned_output.aln\"\n",
        "dnd_file = \"alignment.dnd\"\n",
        "fasta_file = \"input_sequence.fasta\" # Assuming fasta_file is defined elsewhere\n",
        "\n",
        "#generate tree using Clustal omega again ( outputs.dnd file)\n",
        "tree_cmd = f\"clustalo -i {fasta_file} -o {aln_file} --guidetree-out={dnd_file} --force --outfmt=clustal\"\n",
        "subprocess.run(tree_cmd, shell=True, check=True)\n",
        "\n",
        "#read and draw tree\n",
        "tree= Phylo.read(dnd_file, \"newick\")\n",
        "Phylo.draw(tree)"
      ],
      "metadata": {
        "colab": {
          "base_uri": "https://localhost:8080/",
          "height": 484
        },
        "id": "RDybFBKuZC8V",
        "outputId": "f10df19a-4df1-43d2-839a-1cd6810acd9e"
      },
      "execution_count": null,
      "outputs": [
        {
          "output_type": "stream",
          "name": "stdout",
          "text": [
            "Requirement already satisfied: biopython in /usr/local/lib/python3.11/dist-packages (1.85)\n",
            "Requirement already satisfied: numpy in /usr/local/lib/python3.11/dist-packages (from biopython) (2.0.2)\n"
          ]
        },
        {
          "output_type": "display_data",
          "data": {
            "text/plain": [
              "<Figure size 640x480 with 1 Axes>"
            ],
            "image/png": "[encoded data removed]"
          },
          "metadata": {}
        }
      ]
    },
    {
      "cell_type": "code",
      "source": [
        "#print alignment with '*' for conserved positions\n",
        "print (\"Alignment with conserved positions marked by '*' :\")\n",
        "for record in alignment:\n",
        "  print(f\"{record.id:<10}: {record.seq}\")\n",
        "\n",
        "#identify conserved positions\n",
        "cons_line = \"\"\n",
        "for i in range(seq_len):\n",
        "  col = [record.seq[i] for record in alignment]\n",
        "  if all(base == col[0] for base in col):\n",
        "    cons_line += \"*\"\n",
        "  else:\n",
        "    cons_line += \" \"\n",
        "print( \" \" * 11 + cons_line)"
      ],
      "metadata": {
        "colab": {
          "base_uri": "https://localhost:8080/"
        },
        "id": "LA7e7OtCZKUn",
        "outputId": "8c763178-221a-461f-c560-482266f0d115"
      },
      "execution_count": null,
      "outputs": [
        {
          "output_type": "stream",
          "name": "stdout",
          "text": [
            "Alignment with conserved positions marked by '*' :\n",
            "seq1      : MEEPQSDPSVEPPLSQETFSDLWKLLPENNVLSPLPSQAMDDLMLSPDDIEQWFTEDPGPDEAPRMPEAAPPVAPAPAAPTPAAPAPAPSWPLSSSVPSQKTYQGSYGFRLGFLHSGTAKSVTCTYSPALNKMFCQLAKTCPVQLWVDSTPPPGTRVRAMAIYKQSQHMTEVVRRCPHHERCSDSDGLAPPQHLIRVEGNLRVEYLDDRNTFRHSVVVPYEPPEVGSDCTTIHYNYMCNSSCMGGMNRRPILTIITLEDSSGNLLGRNSFEVRVCACPGRDRRTEEENLRKKGEPHHELPPGSTKRALPNNTSSSPQPKKKPLDGEYFTLQDQTSFQKENC----------------------------------------------------\n",
            "seq2      : MEEPQSDPSVEPPLSQETFSDLWKLLPENNVLSPLPSQAMDDLMLSPDDIEQWFTEDPGPDEAPRMPEAAPPVAPAPAAPTPAAPAPAPSWPLSSSVPSQKTYQGSYGFRLGFLHSGTAKSVTCTYSPALNKMFCQLAKTCPVQLWVDSTPPPGTRVRAMAIYKQSQHMTEVVRRCPHHERCSDSDGLAPPQHLIRVEGNLRVEYLDDRNTFRHSVVVPYEPPEVGSDCTTIHYNYMCNSSCMGGMNRRPILTIITLEDSSGNLLGRNSFEVRVCACPGRDRRTEEENLRKKGEPHHELPPGSTKRALPNNTSSSPQPKKKPLDGEYFTLQIRGRERFEMFRELNEALELKDAQAGKEPGGSRAHSSHLKSKKGQSTSRHKKLMFKTEGPDSD\n",
            "seq3      : MEEPQSDPSVEPPLSQETFSDLWKLLPENNVLSPLPSQAMDDLMLSPDDIEQWFTEDPGPDEAPRMPEAAPPVAPAPAAPTPAAPapAPSWPLSSSVPSQKTYQGSYGFRLGFLHSGTAKSVTCTYSPALNKMFCQLAKTCPVQLWVDSTPPPGTRVRAMAIYKQSQHMTEVVRRCPHHERCSDSDGLAPPQHLIRVEGNLRVEYLDDRNTFRHSVVVPYEPPEVGSDCTTIHYNYMCNSSCMGGMNRRPILTIITLEDSSGNLLGRNSFEVRVCACPGRDRRTEEENLRKKGEPHHELPPGSTKRALPNNTSSSPQPKKKPLDGEYFTLQMLLDLRWCYFLINSS-----------------------------------------------\n",
            "           *************************************************************************************  ****************************************************************************************************************************************************************************************************************************************************                                                              \n"
          ]
        }
      ]
    }
  ]
}